{
  "nbformat": 4,
  "nbformat_minor": 0,
  "metadata": {
    "colab": {
      "name": "PoissonProcessesTutorial.ipynb",
      "provenance": [],
      "collapsed_sections": []
    },
    "kernelspec": {
      "name": "python3",
      "display_name": "Python 3"
    }
  },
  "cells": [
    {
      "cell_type": "markdown",
      "metadata": {
        "id": "IUEVu2cz6QOS"
      },
      "source": [
        "Before we get into Poisson distributions and the processes they describe, we need to first introduce Gaussian distributions. The reason is that Poisson distributions are just a special type of Gaussian distribution. This is the equation for a Gaussian distribution:\n",
        "\n",
        "$f(x) = \\frac{1}{\\sqrt{2 \\pi \\sigma^2}}e^{-\\frac{(x-\\mu)^2}{2\\sigma^2}}$\n",
        "\n",
        "$\\mu$ is the mean of the distribution\n",
        "\n",
        "$\\sigma$ is the standard deviation of the distribution\n",
        "\n",
        "It's alright if equations aren't your thing. The thing to remember is that you have some distribution of your data and that there is a mean/average ($\\mu$) and another parameter describing how spread out the distribution is---the standard deviation ($\\sigma$). The following code allows us to play with those two parameters and see how it affects the Gaussian distribution. Go ahead and change 'mu' and 'sigma' and then push the \"play\" button to see how the distribution changes."
      ]
    },
    {
      "cell_type": "code",
      "metadata": {
        "id": "BxPx6IX8Y6XA",
        "outputId": "ced533ba-274d-407b-fb95-297db2715640",
        "colab": {
          "base_uri": "https://localhost:8080/",
          "height": 350
        }
      },
      "source": [
        "# Create inline plots\n",
        "%matplotlib inline\n",
        "\n",
        "# Matplotlib\n",
        "import matplotlib.pyplot as plt\n",
        "\n",
        "# Numpy module\n",
        "import numpy as np\n",
        "\n",
        "# Math module\n",
        "import math\n",
        "\n",
        "# Seaborn for visualizing distributions\n",
        "import seaborn as sns\n",
        "\n",
        "# A Poisson distribution is a special type of Gaussian distribution in which the\n",
        "# mean and variance are equal. Many physical and biological phenomena are well-\n",
        "# described by Poisson distributions.\n",
        "\n",
        "# First, let's try to unpack the Poisson distribution a bit by making a generic\n",
        "# Gaussian distribution with a mean (mu) and standard deviation (sigma). Choose\n",
        "# whatever numbers you like.\n",
        "mu = 2.0\n",
        "sigma = 2.6\n",
        "\n",
        "y = sigma * np.random.randn(1,10000) + mu\n",
        "\n",
        "ax = sns.distplot(y, bins = 100);\n",
        "ax.set(xlabel='Gaussian distribution', ylabel='frequency')\n",
        "\n"
      ],
      "execution_count": 21,
      "outputs": [
        {
          "output_type": "stream",
          "text": [
            "/usr/local/lib/python3.6/dist-packages/seaborn/distributions.py:2551: FutureWarning: `distplot` is a deprecated function and will be removed in a future version. Please adapt your code to use either `displot` (a figure-level function with similar flexibility) or `histplot` (an axes-level function for histograms).\n",
            "  warnings.warn(msg, FutureWarning)\n"
          ],
          "name": "stderr"
        },
        {
          "output_type": "execute_result",
          "data": {
            "text/plain": [
              "[Text(0, 0.5, 'frequency'), Text(0.5, 0, 'Gaussian distribution')]"
            ]
          },
          "metadata": {
            "tags": []
          },
          "execution_count": 21
        },
        {
          "output_type": "display_data",
          "data": {
            "image/png": "[encoded data removed]",
            "text/plain": [
              "<Figure size 432x288 with 1 Axes>"
            ]
          },
          "metadata": {
            "tags": [],
            "needs_background": "light"
          }
        }
      ]
    },
    {
      "cell_type": "markdown",
      "metadata": {
        "id": "mTzeQHlO186Q"
      },
      "source": [
        "Go ahead and play around with the parameters for the Gaussian distribution. What you'll notice as you change the parameters, is that the values along the x-axis change, but the general, bell-curve, shape stays the same.\n",
        "\n",
        "A Poisson distribution is just a special case in which the mean and variance are equal. The standard deviation ($\\sigma$) is the square root of the variance and, since the mean and variance are equal, it is also the square root of the mean ($\\mu$).\n",
        "\n",
        "$\\sigma = \\sqrt{\\mu}$"
      ]
    },
    {
      "cell_type": "code",
      "metadata": {
        "id": "kSbe0q-N15Hf",
        "outputId": "629e9731-b366-4c03-e9d8-419b651bfd60",
        "colab": {
          "base_uri": "https://localhost:8080/",
          "height": 350
        }
      },
      "source": [
        "# Define a mean/variance.\n",
        "mu = 3.0\n",
        "# The standard deviation (sigma) is just the square root of this value.\n",
        "sigma = math.sqrt(mu)\n",
        "\n",
        "# 'randn' just generates a bunch of random numbers that have a Gaussian distribution\n",
        "y = sigma * np.random.randn(1,10000) + mu\n",
        "\n",
        "\n",
        "# Let's plot the histogram of the numbers we generated and then plot the \n",
        "# function as well.\n",
        "ax = sns.distplot(y, bins = 100);\n",
        "ax.set(xlabel='Poisson distribution', ylabel='frequency')\n"
      ],
      "execution_count": 22,
      "outputs": [
        {
          "output_type": "stream",
          "text": [
            "/usr/local/lib/python3.6/dist-packages/seaborn/distributions.py:2551: FutureWarning: `distplot` is a deprecated function and will be removed in a future version. Please adapt your code to use either `displot` (a figure-level function with similar flexibility) or `histplot` (an axes-level function for histograms).\n",
            "  warnings.warn(msg, FutureWarning)\n"
          ],
          "name": "stderr"
        },
        {
          "output_type": "execute_result",
          "data": {
            "text/plain": [
              "[Text(0, 0.5, 'frequency'), Text(0.5, 0, 'Poisson distribution')]"
            ]
          },
          "metadata": {
            "tags": []
          },
          "execution_count": 22
        },
        {
          "output_type": "display_data",
          "data": {
            "image/png": "[encoded data removed]",
            "text/plain": [
              "<Figure size 432x288 with 1 Axes>"
            ]
          },
          "metadata": {
            "tags": [],
            "needs_background": "light"
          }
        }
      ]
    },
    {
      "cell_type": "markdown",
      "metadata": {
        "id": "GXLuWXP_Aiyz"
      },
      "source": [
        "All that's happened is that we've constrained the Gaussian distribution to have only one free parameter instead of two. Wasn't that easy?!\n",
        "\n",
        "So, why did I make you learn this then? Well, it turns out that there are many physical processes that are well described with Poisson statistics. Here are a few examples that are relevant to you and me: \n",
        "\n",
        "1) In physics, the frequency of photon arrivals. This will become important very soon.\n",
        "\n",
        "2) Neural spike counts (not exactly due to the refractory period)...\n",
        "\n",
        "3) Frequency of vesicle release at synapses\n",
        "\n",
        "Let's look at concrete example. Photon arrivals at a detector obey Poisson statistics so let's simulate a distribution of photon counts based on a mean values. Now, if we're talking about photon counts in, say, a 100 ms window, we aren't going to observe any counts that are less than zero, so we can clip the negative values out."
      ]
    },
    {
      "cell_type": "code",
      "metadata": {
        "id": "ytTYtvzNamwT",
        "outputId": "8e32e1c5-e44d-4540-feaf-fd5b1796dc3c",
        "colab": {
          "base_uri": "https://localhost:8080/",
          "height": 350
        }
      },
      "source": [
        "mu = 3.0\n",
        "sigma = math.sqrt(mu)\n",
        "\n",
        "y = sigma * np.random.randn(1,10000) + mu\n",
        "\n",
        "# Photon counts are discrete (integers), so let's round.\n",
        "y = np.round(y)\n",
        "\n",
        "# We can't have negative photon counts, so set them to zero.\n",
        "y[y < 0] = 0\n",
        "\n",
        "ax = sns.distplot(y, bins = int(np.amax(y)+1.0), kde=False, norm_hist=True, hist_kws={\"linewidth\": 15, 'alpha':0.5});\n",
        "ax.set(xlabel='photon count per bin', ylabel='number of bins')"
      ],
      "execution_count": 24,
      "outputs": [
        {
          "output_type": "stream",
          "text": [
            "/usr/local/lib/python3.6/dist-packages/seaborn/distributions.py:2551: FutureWarning: `distplot` is a deprecated function and will be removed in a future version. Please adapt your code to use either `displot` (a figure-level function with similar flexibility) or `histplot` (an axes-level function for histograms).\n",
            "  warnings.warn(msg, FutureWarning)\n"
          ],
          "name": "stderr"
        },
        {
          "output_type": "execute_result",
          "data": {
            "text/plain": [
              "[Text(0, 0.5, 'number of bins'), Text(0.5, 0, 'photon count per bin')]"
            ]
          },
          "metadata": {
            "tags": []
          },
          "execution_count": 24
        },
        {
          "output_type": "display_data",
          "data": {
            "image/png": "[encoded data removed]",
            "text/plain": [
              "<Figure size 432x288 with 1 Axes>"
            ]
          },
          "metadata": {
            "tags": [],
            "needs_background": "light"
          }
        }
      ]
    },
    {
      "cell_type": "markdown",
      "metadata": {
        "id": "n-vCH3orlDbT"
      },
      "source": [
        "That's all there is to it. We can see the probability (y-axis) that we observed x number of photons (x-axis). This type of visualization can be very helpful as we try to understand neural systems, etc. There are many examples of this, but for the time being I would like you to become comfortable with this concept. So, please play around with the code to familiarize yourself with how things change as we shift the parameters around.\n",
        "\n",
        "Gaussian functions will keep coming up, not just in understanding \n",
        "neuroscience concepts, but also in your data analysis. For example, many\n",
        "of the tools that simplify statistical calculations (such as t-tests) \n",
        "assume that your data conforms to a Gaussian distribution. If you're not\n",
        "certain that this is the case, then you need to use other methods. \n",
        "\n"
      ]
    },
    {
      "cell_type": "markdown",
      "metadata": {
        "id": "F7UXZ5L52WRX"
      },
      "source": [
        "**Cumulative distribution functions (CDFs)**\n",
        "\n",
        "So far in this tutorial, we have explored Gaussian/Poisson probability\n",
        "density functions (PDF). Now, we want to turn our attention to the \n",
        "cumulative distribution functions (CDF) for these distributions.\n",
        "\n",
        "So what is a cumulative distribution function?\n",
        "\n",
        "To answer that question, let's back up and give an example of a Gaussian\n",
        "distribution. The classic example, of course, is the distribution of\n",
        "IQ's. The mean IQ is, by definition, 100 and the standard deviation is 15. Let's make a little IQ PDF/distribution."
      ]
    },
    {
      "cell_type": "code",
      "metadata": {
        "id": "WzcV-81M2f-u",
        "outputId": "f63a65dd-8389-417e-e64b-fa5120c64ae0",
        "colab": {
          "base_uri": "https://localhost:8080/",
          "height": 296
        }
      },
      "source": [
        "mu = 100\n",
        "sigma = 15\n",
        "\n",
        "# Use a lambda expression to define a Gaussian function.\n",
        "gaussfun = lambda mu,sigma,x : 1/np.sqrt(2*np.pi*sigma**2) * np.exp(-(x - mu)**2/(2*sigma**2))\n",
        "\n",
        "x = np.arange(200)\n",
        "# Pass the parameters to our anonymous function.\n",
        "y = gaussfun(mu,sigma,x);\n",
        "y = y/sum(y); # Area under the curve must equal 1.\n",
        "\n",
        "plt.plot(x, y, c='blue')\n",
        "plt.xlabel('IQ score')\n",
        "plt.ylabel('probability')\n"
      ],
      "execution_count": 25,
      "outputs": [
        {
          "output_type": "execute_result",
          "data": {
            "text/plain": [
              "Text(0, 0.5, 'probability')"
            ]
          },
          "metadata": {
            "tags": []
          },
          "execution_count": 25
        },
        {
          "output_type": "display_data",
          "data": {
            "image/png": "[encoded data removed]",
            "text/plain": [
              "<Figure size 432x288 with 1 Axes>"
            ]
          },
          "metadata": {
            "tags": [],
            "needs_background": "light"
          }
        }
      ]
    },
    {
      "cell_type": "markdown",
      "metadata": {
        "id": "rUB5F2I5Cp6E"
      },
      "source": [
        "Alright, let's now look at the probability of a person having an IQ of exactly 120."
      ]
    },
    {
      "cell_type": "code",
      "metadata": {
        "id": "zRKz_Fr8CvjX",
        "outputId": "15aec8ce-d861-4d73-cdd0-f86f5bd883da",
        "colab": {
          "base_uri": "https://localhost:8080/",
          "height": 34
        }
      },
      "source": [
        "# Find the probability of having an IQ of exactly 120.\n",
        "p120 = y[x == 120]\n",
        "print(p120)"
      ],
      "execution_count": null,
      "outputs": [
        {
          "output_type": "stream",
          "text": [
            "[0.010934]\n"
          ],
          "name": "stdout"
        }
      ]
    },
    {
      "cell_type": "markdown",
      "metadata": {
        "id": "ALpE4AU5ERy2"
      },
      "source": [
        "For our example, that turns out to be about 1%... It turns out that the 120 threshold is pretty important... In Malcolm Gladwell's book 'Outliers' he cites studies indicating that up to 120, IQ is a reliable predictor of a person's success, but above that threshold, it no longer correlates with success. The argument is that the IQ test captures something about intelligence, but there are aspects of intellect that it does not assess adequately. I digress, but it's a fun read. \n",
        "\n",
        "OK, so what if we wanted to know what percentage of the population have an IQ less than 120? How would we calculate that? Well, knowing the value at 120, isn't particularly informative... This is where the cumulative distribution function becomes useful.\n",
        "\n",
        "To find the probability of someone having an IQ less than 120, we need to take the definite integral from [0,119]. This calculates the area under the distribution (i.e., cumulative distribution function) from  0 to 119."
      ]
    },
    {
      "cell_type": "code",
      "metadata": {
        "id": "iYBTBcIcEnyc",
        "outputId": "f053836b-4198-416d-b61b-5be4323e8814",
        "colab": {
          "base_uri": "https://localhost:8080/",
          "height": 34
        }
      },
      "source": [
        "# Get the cumulative probability: the probability of someone having an IQ less than 120.\n",
        "cumPr120 = np.sum(y[x < 120])\n",
        "print(cumPr120)"
      ],
      "execution_count": 26,
      "outputs": [
        {
          "output_type": "stream",
          "text": [
            "0.9032407778362548\n"
          ],
          "name": "stdout"
        }
      ]
    },
    {
      "cell_type": "markdown",
      "metadata": {
        "id": "tJ2Nqh1MFUAw"
      },
      "source": [
        "That gives us a value of 0.90, meaning that 90% of the population has an IQ less than 120. We could do the same thing and get the probability that a random person on the street has an IQ less than or equal to any value. One way to calculate this would be in a 'for' loop:"
      ]
    },
    {
      "cell_type": "code",
      "metadata": {
        "id": "wLDpDndVFibt",
        "outputId": "8344a504-6afd-48d0-cd4a-faa7fdcd5cc3",
        "colab": {
          "base_uri": "https://localhost:8080/",
          "height": 296
        }
      },
      "source": [
        "cumPr = np.zeros(x.shape) # Good practice to pre-allocate memory...\n",
        "for k in range(len(x)):\n",
        "  cumPr[k] = np.sum(y[x <= x[k]])\n",
        "\n",
        "# Let's take a look at the results.\n",
        "plt.plot(x, cumPr, 'b', linewidth=2)\n",
        "\n",
        "# Let's highlight teh value at 120 for fun.\n",
        "plt.plot(120, cumPr[x == 120], 'ko')\n",
        "plt.plot(120*np.ones([2]),[0,cumPr[x==120]],'k--')\n",
        "plt.plot([0,120],cumPr[x==120]*np.ones([2]),'k--')\n",
        "\n",
        "plt.xlabel('IQ score')\n",
        "plt.ylabel('cumulative probability')"
      ],
      "execution_count": 27,
      "outputs": [
        {
          "output_type": "execute_result",
          "data": {
            "text/plain": [
              "Text(0, 0.5, 'cumulative probability')"
            ]
          },
          "metadata": {
            "tags": []
          },
          "execution_count": 27
        },
        {
          "output_type": "display_data",
          "data": {
            "image/png": "[encoded data removed]",
            "text/plain": [
              "<Figure size 432x288 with 1 Axes>"
            ]
          },
          "metadata": {
            "tags": [],
            "needs_background": "light"
          }
        }
      ]
    },
    {
      "cell_type": "markdown",
      "metadata": {
        "id": "kJ6rTS9oIK2A"
      },
      "source": [
        "I've highlighted the value at 120 to illustrate what we discussed above. This is the cumulative distribution function (CDF) for the Gaussian distribution that we looked at earlier. That's all there is to it!!\n",
        "\n",
        "It turns out that there are several ways to calculate the CDF. The for loop example above is one way, and I would like to show you two other ways of doing the calculation. Both ways are easier than the for loop example:\n",
        "\n",
        "1) 'cumsum': Numpy has a built-in function called 'cumsum' that does exactly what we did in the for loop, but using this function just means fewer lines of code that we have to write. Let's do it!"
      ]
    },
    {
      "cell_type": "code",
      "metadata": {
        "id": "ZU5jkqghIWpD",
        "outputId": "27b73f8a-e38f-401a-e5e5-9528649625e4",
        "colab": {
          "base_uri": "https://localhost:8080/",
          "height": 296
        }
      },
      "source": [
        "cumPrCumSum = np.cumsum(y)\n",
        "\n",
        "# Let's plot the output from our for loop above and the new way to make \n",
        "# sure they align.\n",
        "plt.plot(x, cumPr, 'b', linewidth=2)\n",
        "plt.plot(x, cumPrCumSum, 'r', linewidth=2)\n",
        "\n",
        "plt.xlabel('IQ score')\n",
        "plt.ylabel('cumulative probability')"
      ],
      "execution_count": 28,
      "outputs": [
        {
          "output_type": "execute_result",
          "data": {
            "text/plain": [
              "Text(0, 0.5, 'cumulative probability')"
            ]
          },
          "metadata": {
            "tags": []
          },
          "execution_count": 28
        },
        {
          "output_type": "display_data",
          "data": {
            "image/png": "[encoded data removed]",
            "text/plain": [
              "<Figure size 432x288 with 1 Axes>"
            ]
          },
          "metadata": {
            "tags": [],
            "needs_background": "light"
          }
        }
      ]
    },
    {
      "cell_type": "markdown",
      "metadata": {
        "id": "LyGA-dJgJE5Y"
      },
      "source": [
        "Yep. We only see one curve, because the two curves are identical. Here's the second way.\n",
        "\n",
        "2) 'normcdf': This function generates a Gaussian (also called 'Normal') cumulative distribution function based on mean and standard deviation. Check it out."
      ]
    },
    {
      "cell_type": "code",
      "metadata": {
        "id": "pgNZFnLSJWUs",
        "outputId": "3390a546-b859-4543-e9a5-10a9527c7cb8",
        "colab": {
          "base_uri": "https://localhost:8080/",
          "height": 296
        }
      },
      "source": [
        "from scipy.stats import norm\n",
        "\n",
        "cumPrFun = norm.cdf(x, mu, sigma)\n",
        "\n",
        "# Let's check this as well.\n",
        "plt.plot(x, cumPr, 'b', linewidth=2)\n",
        "plt.plot(x, cumPrFun, 'r', linewidth=2)\n",
        "\n",
        "plt.xlabel('IQ score')\n",
        "plt.ylabel('cumulative probability')\n"
      ],
      "execution_count": 29,
      "outputs": [
        {
          "output_type": "execute_result",
          "data": {
            "text/plain": [
              "Text(0, 0.5, 'cumulative probability')"
            ]
          },
          "metadata": {
            "tags": []
          },
          "execution_count": 29
        },
        {
          "output_type": "display_data",
          "data": {
            "image/png": "[encoded data removed]",
            "text/plain": [
              "<Figure size 432x288 with 1 Axes>"
            ]
          },
          "metadata": {
            "tags": [],
            "needs_background": "light"
          }
        }
      ]
    },
    {
      "cell_type": "markdown",
      "metadata": {
        "id": "jwyTXXELLgf5"
      },
      "source": [
        "No big deal, right?! You're just taking the integral under the distribution.\n",
        "\n",
        "\n",
        "**Fitting a cumulative distribution function**\n",
        "\n",
        "One thing you'll be doing a lot of in your research is trying to model your data. Imagine that you have some data that you want to present. The first thing to do is show the data. Let's make some pretend data of some IQ scores:"
      ]
    },
    {
      "cell_type": "code",
      "metadata": {
        "id": "kakERWmeMDmi",
        "outputId": "4e0da321-8fd9-41a1-ca59-f55292fc6490",
        "colab": {
          "base_uri": "https://localhost:8080/",
          "height": 313
        }
      },
      "source": [
        "from scipy import stats\n",
        "from scipy.optimize import curve_fit\n",
        "\n",
        "# Generate some random Gaussian samples.\n",
        "dataHist = sigma * np.random.randn(1000) + mu\n",
        "\n",
        "# Calculate the cumulative frequency of the random samples.\n",
        "res = stats.cumfreq(dataHist, numbins=100)\n",
        "# data, binEdges = np.histogram(dataHist, bins=100);\n",
        "\n",
        "# Get the bin centers.\n",
        "x = res.lowerlimit + np.linspace(0, res.binsize*res.cumcount.size,\n",
        "                                 res.cumcount.size)\n",
        "\n",
        "# Get the cumulative probability.\n",
        "data = res.cumcount / np.max(res.cumcount)\n",
        "\n",
        "\n",
        "# Alright, we've created a cumulative distribution of IQ scores. Now, let's\n",
        "# fit the data.\n",
        "\n",
        "# You could use this function or the lambda expression below...\n",
        "# def fitfun(x, mu, sigma):\n",
        "#   return norm.cdf(x, mu, sigma)\n",
        "\n",
        "# Another anonymous function.\n",
        "fitfun = lambda x, mu, sigma : norm.cdf(x, mu, sigma)\n",
        "\n",
        "# Fit the data.\n",
        "popt, pcov = curve_fit(fitfun, x, data, p0=(mu,sigma))\n",
        "print(\"The fitted parameters were mu: %1.1f, sigma: %1.1f\" % tuple(popt))\n",
        "\n",
        "plt.plot(x,data, '.', label='raw data')\n",
        "plt.plot(x, fitfun(x, popt[0], popt[1]), label='fit')\n",
        "\n",
        "plt.xlabel('IQ score')\n",
        "plt.ylabel('cumulative probability')\n",
        "plt.legend()"
      ],
      "execution_count": 55,
      "outputs": [
        {
          "output_type": "stream",
          "text": [
            "The fitted parameters were mu: 99.1, sigma: 15.5\n"
          ],
          "name": "stdout"
        },
        {
          "output_type": "execute_result",
          "data": {
            "text/plain": [
              "<matplotlib.legend.Legend at 0x7f9aa39727b8>"
            ]
          },
          "metadata": {
            "tags": []
          },
          "execution_count": 55
        },
        {
          "output_type": "display_data",
          "data": {
            "image/png": "[encoded data removed]",
            "text/plain": [
              "<Figure size 432x288 with 1 Axes>"
            ]
          },
          "metadata": {
            "tags": [],
            "needs_background": "light"
          }
        }
      ]
    },
    {
      "cell_type": "markdown",
      "metadata": {
        "id": "FOjdH3Njucoq"
      },
      "source": [
        "There! We fit the data. That's all there is to it."
      ]
    }
  ]
}